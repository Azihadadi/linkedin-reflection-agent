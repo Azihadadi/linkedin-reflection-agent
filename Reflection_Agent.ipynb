{
  "nbformat": 4,
  "nbformat_minor": 0,
  "metadata": {
    "colab": {
      "provenance": []
    },
    "kernelspec": {
      "name": "python3",
      "display_name": "Python 3"
    },
    "language_info": {
      "name": "python"
    }
  },
  "cells": [
    {
      "cell_type": "code",
      "execution_count": null,
      "metadata": {
        "id": "j1a9aDHNhz2I"
      },
      "outputs": [],
      "source": [
        "from langchain_ibm import ChatWatsonx\n",
        "from langchain_core.messages import BaseMessage, HumanMessage\n",
        "from langgraph.graph import END, MessageGraph, StateGraph\n",
        "\n",
        "from typing import List, Sequence\n",
        "from langchain_core.prompts import ChatPromptTemplate, MessagesPlaceholder"
      ]
    },
    {
      "cell_type": "code",
      "source": [
        "from langchain_ibm import ChatWatsonx\n",
        "watsonx_llm = ChatWatsonx(\n",
        "    model_id=\"ibm/granite-3-2-8b-instruct\",\n",
        "    url=\"https://us-south.ml.cloud.ibm.com\",\n",
        "    project_id=\"your project id associated with the API key\",\n",
        "    api_key=\"your watsonx.ai api key here\",\n",
        ")"
      ],
      "metadata": {
        "id": "s9ahRjIKvMDs"
      },
      "execution_count": null,
      "outputs": []
    },
    {
      "cell_type": "code",
      "source": [
        "llm = ChatWatsonx(\n",
        "    model_id=\"ibm/granite-3-3-8b-instruct\",\n",
        "    url=\"https://us-south.ml.cloud.ibm.com\",\n",
        "    project_id=\"skills-network\"\n",
        ")"
      ],
      "metadata": {
        "id": "2aSw7NxKvQJC"
      },
      "execution_count": null,
      "outputs": []
    },
    {
      "cell_type": "code",
      "source": [
        "generation_prompt = ChatPromptTemplate.from_messages(\n",
        "    [\n",
        "        (\n",
        "            \"system\",\n",
        "            \"You are a professional LinkedIn content assistant tasked with crafting engaging, insightful, and well-structured LinkedIn posts.\"\n",
        "            \" Generate the best LinkedIn post possible for the user's request.\"\n",
        "            \" If the user provides feedback or critique, respond with a refined version of your previous attempts, improving clarity, tone, or engagement as needed.\",\n",
        "        ),\n",
        "        MessagesPlaceholder(variable_name=\"messages\"),\n",
        "    ]\n",
        ")"
      ],
      "metadata": {
        "id": "SKPjvYhfvSSC"
      },
      "execution_count": null,
      "outputs": []
    },
    {
      "cell_type": "code",
      "source": [
        "generate_chain = generation_prompt | llm"
      ],
      "metadata": {
        "id": "87XowjIXvUHi"
      },
      "execution_count": null,
      "outputs": []
    },
    {
      "cell_type": "code",
      "source": [
        "reflection_prompt = ChatPromptTemplate.from_messages([\n",
        "    (\n",
        "        \"system\",\n",
        "        \"\"\"You are a professional LinkedIn content strategist and thought leadership expert. Your task is to critically evaluate the given LinkedIn post and provide a comprehensive critique. Follow these guidelines:\n",
        "\n",
        "        1. Assess the post’s overall quality, professionalism, and alignment with LinkedIn best practices.\n",
        "        2. Evaluate the structure, tone, clarity, and readability of the post.\n",
        "        3. Analyze the post’s potential for engagement (likes, comments, shares) and its effectiveness in building professional credibility.\n",
        "        4. Consider the post’s relevance to the author’s industry, audience, or current trends.\n",
        "        5. Examine the use of formatting (e.g., line breaks, bullet points), hashtags, mentions, and media (if any).\n",
        "        6. Evaluate the effectiveness of any call-to-action or takeaway.\n",
        "\n",
        "        Provide a detailed critique that includes:\n",
        "        - A brief explanation of the post’s strengths and weaknesses.\n",
        "        - Specific areas that could be improved.\n",
        "        - Actionable suggestions for enhancing clarity, engagement, and professionalism.\n",
        "\n",
        "        Your critique will be used to improve the post in the next revision step, so ensure your feedback is thoughtful, constructive, and practical.\n",
        "        \"\"\"\n",
        "    ),\n",
        "    MessagesPlaceholder(variable_name=\"messages\")\n",
        "])"
      ],
      "metadata": {
        "id": "F7P5Z6WXvWej"
      },
      "execution_count": null,
      "outputs": []
    },
    {
      "cell_type": "code",
      "source": [
        "reflect_chain = reflection_prompt | llm"
      ],
      "metadata": {
        "id": "cQ1nq08GvYaj"
      },
      "execution_count": null,
      "outputs": []
    },
    {
      "cell_type": "code",
      "source": [
        "from langgraph.graph import MessageGraph\n",
        "from typing import List, Annotated, TypedDict\n",
        "from langchain.schema import HumanMessage, AIMessage, SystemMessage\n",
        "\n",
        "# Initialize a predefined MessageGraph\n",
        "graph = MessageGraph()"
      ],
      "metadata": {
        "id": "zsBkW5ZPvbBi"
      },
      "execution_count": null,
      "outputs": []
    },
    {
      "cell_type": "code",
      "source": [
        "def generation_node(state: Sequence[BaseMessage]) -> List[BaseMessage]:\n",
        "    generated_post = generate_chain.invoke({\"messages\": state})\n",
        "    return [AIMessage(content=generated_post.content)]"
      ],
      "metadata": {
        "id": "Iobi6qZrvhlV"
      },
      "execution_count": null,
      "outputs": []
    },
    {
      "cell_type": "code",
      "source": [
        "def reflection_node(messages: Sequence[BaseMessage]) -> List[BaseMessage]:\n",
        "    res = reflect_chain.invoke({\"messages\": messages})  # Passes messages as input to reflect_chain\n",
        "    return [HumanMessage(content=res.content)]  # Returns the refined message as HumanMessage for feedback"
      ],
      "metadata": {
        "id": "xb4hA2DzveDb"
      },
      "execution_count": null,
      "outputs": []
    },
    {
      "cell_type": "code",
      "source": [
        "graph.add_node(\"generate\", generation_node)"
      ],
      "metadata": {
        "id": "aiZusvSbvjye"
      },
      "execution_count": null,
      "outputs": []
    },
    {
      "cell_type": "code",
      "source": [
        "graph.add_node(\"reflect\", reflection_node)"
      ],
      "metadata": {
        "id": "ODXFu_elvlyL"
      },
      "execution_count": null,
      "outputs": []
    },
    {
      "cell_type": "code",
      "source": [
        "graph.add_edge(\"reflect\", \"generate\")"
      ],
      "metadata": {
        "id": "wheS2iF7vnlz"
      },
      "execution_count": null,
      "outputs": []
    },
    {
      "cell_type": "code",
      "source": [
        "graph.set_entry_point(\"generate\")"
      ],
      "metadata": {
        "id": "eJ9_7thgvpu8"
      },
      "execution_count": null,
      "outputs": []
    },
    {
      "cell_type": "code",
      "source": [
        "def should_continue(state: List[BaseMessage]):\n",
        "    print(state)\n",
        "    print(len(state))\n",
        "    print(\"----------------------------------------------------------------------\")\n",
        "    if len(state) > 6:\n",
        "        return END\n",
        "    return \"reflect\""
      ],
      "metadata": {
        "id": "XI4exPREvpni"
      },
      "execution_count": null,
      "outputs": []
    },
    {
      "cell_type": "code",
      "source": [
        "graph.add_conditional_edges(\"generate\", should_continue)"
      ],
      "metadata": {
        "id": "0yvGM2jnvuCe"
      },
      "execution_count": null,
      "outputs": []
    },
    {
      "cell_type": "code",
      "source": [
        "workflow = graph.compile()"
      ],
      "metadata": {
        "id": "SWDV3U3nvv9j"
      },
      "execution_count": null,
      "outputs": []
    },
    {
      "cell_type": "code",
      "source": [
        "inputs = HumanMessage(content=\"\"\"Write a linkedin post on getting a software developer job at IBM under 160 characters\"\"\")"
      ],
      "metadata": {
        "id": "u_8jFgCevxzr"
      },
      "execution_count": null,
      "outputs": []
    },
    {
      "cell_type": "code",
      "source": [
        "response = workflow.invoke(inputs)"
      ],
      "metadata": {
        "id": "Ja77kLrovzqs"
      },
      "execution_count": null,
      "outputs": []
    },
    {
      "cell_type": "code",
      "source": [
        "response[-1].content"
      ],
      "metadata": {
        "id": "2xJNuLfQv2W6"
      },
      "execution_count": null,
      "outputs": []
    },
    {
      "cell_type": "code",
      "source": [
        "from IPython.display import Image, display\n",
        "\n",
        "display(Image(workflow.get_graph().draw_png()))"
      ],
      "metadata": {
        "id": "o4Dzqr-Ov4P8"
      },
      "execution_count": null,
      "outputs": []
    }
  ]
}